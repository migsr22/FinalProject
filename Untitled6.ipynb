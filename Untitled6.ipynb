{
 "cells": [
  {
   "cell_type": "code",
   "execution_count": 261,
   "metadata": {},
   "outputs": [],
   "source": [
    "import numpy as np\n",
    "import pandas as pd\n",
    "import matplotlib.pyplot as plt\n",
    "import warnings\n",
    "warnings.filterwarnings('ignore')"
   ]
  },
  {
   "cell_type": "code",
   "execution_count": 262,
   "metadata": {},
   "outputs": [
    {
     "data": {
      "text/plain": [
       "(240379, 455)"
      ]
     },
     "execution_count": 262,
     "metadata": {},
     "output_type": "execute_result"
    }
   ],
   "source": [
    "df = pd.read_csv('Dataset.csv')\n",
    "df.shape"
   ]
  },
  {
   "cell_type": "code",
   "execution_count": 263,
   "metadata": {},
   "outputs": [
    {
     "data": {
      "text/plain": [
       "(240379, 144)"
      ]
     },
     "execution_count": 263,
     "metadata": {},
     "output_type": "execute_result"
    }
   ],
   "source": [
    "df = df.loc[:, df.isnull().mean() <.20]\n",
    "df.shape"
   ]
  },
  {
   "cell_type": "code",
   "execution_count": 264,
   "metadata": {},
   "outputs": [
    {
     "data": {
      "text/plain": [
       "(240379, 115)"
      ]
     },
     "execution_count": 264,
     "metadata": {},
     "output_type": "execute_result"
    }
   ],
   "source": [
    "def drop_cols():\n",
    "    drop_cols = ['wl_org', 'rem_cd', 'dayswait_chron', 'end_date', 'init_date', 'wt_qual_date',\n",
    "                  'init_bmi_calc', 'dayswait_alloc', 'region', 'pri_payment_tcr_ki', 'pri_payment_trr_ki',\n",
    "                  'citizenship_don', 'cancer_site_don', 'diag_ki', 'organ', 'med_cond_trr', 'payback',\n",
    "                  'age_group', 'lt_one_week_don', 'data_transplant', 'opo_ctr_code', 'end_opo_ctr_code',\n",
    "                  'listing_ctr_code', 'citizenship', 'init_opo_ctr_code','death_fail_ki','ctr_code','px_stat_date', 'tx_date']\n",
    "    df.drop(drop_cols, inplace=True, axis=1)\n",
    "    return df.shape\n",
    "    status('drop_cols')\n",
    "    \n",
    "drop_cols()"
   ]
  },
  {
   "cell_type": "code",
   "execution_count": 265,
   "metadata": {},
   "outputs": [
    {
     "data": {
      "text/plain": [
       "(143615, 115)"
      ]
     },
     "execution_count": 265,
     "metadata": {},
     "output_type": "execute_result"
    }
   ],
   "source": [
    "def drop_rows():\n",
    "    df.dropna(how='any', inplace=True, axis=0)\n",
    "    return df.shape\n",
    "    status('drop_rows')\n",
    "    \n",
    "drop_rows()"
   ]
  },
  {
   "cell_type": "code",
   "execution_count": 266,
   "metadata": {},
   "outputs": [
    {
     "data": {
      "text/plain": [
       "(143615, 115)"
      ]
     },
     "execution_count": 266,
     "metadata": {},
     "output_type": "execute_result"
    }
   ],
   "source": [
    "df.shape"
   ]
  },
  {
   "cell_type": "code",
   "execution_count": 271,
   "metadata": {},
   "outputs": [
    {
     "data": {
      "text/plain": [
       "(143615, 273)"
      ]
     },
     "execution_count": 271,
     "metadata": {},
     "output_type": "execute_result"
    }
   ],
   "source": [
    "def drop_encode_cols():\n",
    "    global df\n",
    "    columns_to_encode = ['abo', 'abo_don', 'cmv_igg', 'cmv_igm', 'cmv_status',\n",
    "                         'ebv_serostatus', 'hbv_core', 'hbv_sur_antigen',\n",
    "                         'hcv_serostatus', 'hbv_core_don', 'hbv_sur_antigen_don',\n",
    "                         'abo_mat', 'diab', 'don_ty', 'education', 'end_stat',\n",
    "                         'end_stat_ki', 'ethcat', 'ethcat_don', 'ethnicity', 'px_stat',\n",
    "                         'share_ty', 'tx_procedur_ty_ki', 'init_stat', 'txkid']\n",
    "    encoded_cols = pd.get_dummies(df, columns = columns_to_encode, drop_first=True)\n",
    "    df = pd.concat([df, encoded_cols], axis=1)\n",
    "    df.drop(columns_to_encode, inplace=True, axis=1)\n",
    "    return df.shape\n",
    "    \n",
    "drop_encode_cols()"
   ]
  },
  {
   "cell_type": "code",
   "execution_count": null,
   "metadata": {},
   "outputs": [],
   "source": [
    "# numerical_cols = ['a1','a2','age','age_don','amis','b1','b2','bmi_calc','bmi_don_calc','bmi_tcr','bmis',\n",
    "#                   'cold_isch_ki', 'creat_trr', 'da1', 'da2', 'dayswait_chron_ki', 'db1', 'db2', 'ddr1',\n",
    "#                   'ddr2', 'distance', 'dr1', 'dr2', 'drmis', 'end_bmi_calc', 'gtime_ki', 'gtime_yr', 'hgt_cm_calc',\n",
    "#                   'hgt_cm_don_calc', 'hgt_cm_tcr', 'hlamis', 'init_age', 'init_hgt_cm', 'init_wgt_kg', 'los', 'npkid',\n",
    "#                   'nppan', 'num_prev_tx', 'ptime', 'ra1', 'ra2', 'rb1', 'rb2', 'rdr1', 'rdr2', 'serum_creat', 'wgt_kg_calc',\n",
    "#                   'wgt_kg_don_calc', 'wgt_kg_tcr','composite', 'ethnicity','outcome1', 'outcome2', 'pstatus', 'gstatus_ki',\n",
    "#                   'death']\n",
    "# numerical_cols = df[numerical_cols]\n",
    "# #numerical_cols\n",
    "# numerical_cols = numerical_cols.nunique()\n",
    "# numerical_cols\n",
    "\n",
    "#These are double checked categorical columns\n",
    "# categorical_cols = ['abo', 'abo_don','cmv_igg','cmv_igm', 'cmv_status', 'ebv_serostatus', 'hbv_core', 'hbv_sur_antigen', 'hcv_serostatus', \n",
    "#                  'hiv_serostatus','hbv_core_don','hbv_sur_antigen_don', 'abo_mat',\n",
    "#                      'diab', 'don_ty', 'education', 'end_stat',\n",
    "#                       'end_stat_ki', 'ethcat', 'ethcat_don', 'ethnicity', 'px_stat',\n",
    "#                       'share_ty', 'tx_procedur_ty_ki', 'init_stat', 'txkid']\n",
    "\n",
    "# def one_categ_col(df, categorical_cols):\n",
    "#     for each in categorical_cols:\n",
    "#         dummies = pd.get_dummies(df[each], prefix=each, drop_first=True)\n",
    "#         df = pd.concat([df, dummies], axis=1)\n",
    "#     return df\n",
    "\n",
    "# df = one_categ_col(df, categorical_cols)\n",
    "\n",
    "# pd.get_dummies(df)\n",
    "# def format_category():\n",
    "#     categorical_cols = ['abo', 'abo_don', 'cmv_igg', 'cmv_igm', 'cmv_status',\n",
    "#                                    'ebv_serostatus', 'hbv_core', 'hbv_sur_antigen',\n",
    "#                                    'hcv_serostatus', 'hbv_core_don', 'hbv_sur_antigen_don',\n",
    "#                                    'abo_mat', 'diab', 'don_ty', 'education', 'end_stat',\n",
    "#                                    'end_stat_ki', 'ethcat', 'ethcat_don', 'ethnicity', 'px_stat',\n",
    "#                                    'share_ty', 'tx_procedur_ty_ki', 'init_stat', 'txkid']\n",
    "#     for i in categorical_cols:\n",
    "#         pd.get_dummies(df, columns = i)\n",
    "#     status('format_category')\n",
    "#     return df.shape\n",
    "\n",
    "#     categorical_cols = ['abo', 'abo_don', 'cmv_igg', 'cmv_igm', 'cmv_status',\n",
    "#                                    'ebv_serostatus', 'hbv_core', 'hbv_sur_antigen',\n",
    "#                                    'hcv_serostatus', 'hbv_core_don', 'hbv_sur_antigen_don',\n",
    "#                                    'abo_mat', 'diab', 'don_ty', 'education', 'end_stat',\n",
    "#                                    'end_stat_ki', 'ethcat', 'ethcat_don', 'ethnicity', 'px_stat',\n",
    "#                                    'share_ty', 'tx_procedur_ty_ki', 'init_stat', 'txkid']"
   ]
  }
 ],
 "metadata": {
  "kernelspec": {
   "display_name": "Python 3",
   "language": "python",
   "name": "python3"
  },
  "language_info": {
   "codemirror_mode": {
    "name": "ipython",
    "version": 3
   },
   "file_extension": ".py",
   "mimetype": "text/x-python",
   "name": "python",
   "nbconvert_exporter": "python",
   "pygments_lexer": "ipython3",
   "version": "3.6.3"
  }
 },
 "nbformat": 4,
 "nbformat_minor": 2
}
