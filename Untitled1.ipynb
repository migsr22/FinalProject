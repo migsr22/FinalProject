{
 "cells": [
  {
   "cell_type": "code",
   "execution_count": 106,
   "metadata": {
    "collapsed": true
   },
   "outputs": [],
   "source": [
    "# df.to_csv(r'C:\\Users\\Agi\\Desktop\\DropBox\\Dropbox\\Classes\\ITSS 4354\\Final Project\\dfclean3152018.csv' , encoding='utf-8')\n",
    "import numpy as np\n",
    "import matplotlib.pyplot as plt\n",
    "import pandas as pd"
   ]
  },
  {
   "cell_type": "code",
   "execution_count": 107,
   "metadata": {},
   "outputs": [
    {
     "name": "stderr",
     "output_type": "stream",
     "text": [
      "C:\\Users\\Agi\\Anaconda3\\lib\\site-packages\\IPython\\core\\interactiveshell.py:2698: DtypeWarning: Columns (6,16,24,31,38,40,43,57,62,70,71,72,73,75,76,77,78,84,99,103,118,126,128,158,160,161,162,163,167,187,194,197,198,199,200,201,202,203,205,207,214,217,222,228,229,231,237,243,264,265,266,292,354,355,362,364,379,385,386,387,389,403,404,405,406,407,408,409,410,411,413,417,438,443,444,445) have mixed types. Specify dtype option on import or set low_memory=False.\n",
      "  interactivity=interactivity, compiler=compiler, result=result)\n"
     ]
    },
    {
     "data": {
      "text/plain": [
       "(240379, 455)"
      ]
     },
     "execution_count": 107,
     "metadata": {},
     "output_type": "execute_result"
    }
   ],
   "source": [
    "df = pd.read_csv('Dataset.csv')\n",
    "df.shape"
   ]
  },
  {
   "cell_type": "code",
   "execution_count": 108,
   "metadata": {
    "collapsed": true
   },
   "outputs": [
    {
     "data": {
      "text/plain": [
       "(240379, 144)"
      ]
     },
     "execution_count": 108,
     "metadata": {},
     "output_type": "execute_result"
    }
   ],
   "source": [
    "# Drop columns that have more than 20% NaN values\n",
    "df = df.loc[:, df.isnull().mean() < .20]\n",
    "df.shape"
   ]
  },
  {
   "cell_type": "code",
   "execution_count": 109,
   "metadata": {},
   "outputs": [
    {
     "data": {
      "text/plain": [
       "(240379, 112)"
      ]
     },
     "execution_count": 109,
     "metadata": {},
     "output_type": "execute_result"
    }
   ],
   "source": [
    "drop_cols = ['wl_org', 'rem_cd', 'dayswait_chron', 'end_date', 'init_date', 'wt_qual_date',\n",
    "                  'init_bmi_calc', 'dayswait_alloc', 'region', 'pri_payment_tcr_ki', 'pri_payment_trr_ki',\n",
    "                  'citizenship_don', 'cancer_site_don', 'diag_ki', 'organ', 'med_cond_trr', 'payback',\n",
    "                  'age_group', 'lt_one_week_don', 'data_transplant', 'opo_ctr_code', 'end_opo_ctr_code',\n",
    "                  'listing_ctr_code', 'citizenship', 'init_opo_ctr_code','death_fail_ki','ctr_code',\n",
    "             'admission_date', 'discharge_date', 'px_stat_date', 'tx_date', 'tx_yr' ]\n",
    "df.drop(drop_cols, inplace=True, axis=1)\n",
    "df.shape"
   ]
  },
  {
   "cell_type": "code",
   "execution_count": 110,
   "metadata": {},
   "outputs": [
    {
     "data": {
      "text/plain": [
       "(143628, 112)"
      ]
     },
     "execution_count": 110,
     "metadata": {},
     "output_type": "execute_result"
    }
   ],
   "source": [
    "df = df.dropna()\n",
    "df.shape"
   ]
  },
  {
   "cell_type": "code",
   "execution_count": 111,
   "metadata": {},
   "outputs": [],
   "source": [
    "# df = df[sorted(df.columns)]\n",
    "\n",
    "# Make categorical columns\n",
    "blood_cols = ['abo', 'abo_don']\n",
    "cols_P_N_U_ND = ['cmv_igg','cmv_igm', 'cmv_status', 'ebv_serostatus', 'hbv_core', 'hbv_sur_antigen', 'hcv_serostatus', \n",
    "                 'hiv_serostatus']\n",
    "cols_P_N_U_ND_I_PD = ['hbv_core_don']\n",
    "cols_P_N_U_ND_I_C = ['hbv_sur_antigen_don']\n",
    "genders = ['gender','gender_don']\n",
    "yes_no = ['data_waitlist', 'don_retyp', 'donation', 'dwfg_ki', 'first_wk_dial', 'grf_stat_ki', 'on_dialysis', 'prev_ki_tx',\n",
    "          'prev_tx', 'prev_tx_any']\n",
    "y_n_u_cols = ['diabetes_don', 'dial_trr','drugtrt_copd', 'exh_perit_access', 'exh_vasc_access', 'hist_cancer_don',\n",
    "              'hist_cig_don', 'hist_hypertens_don', 'malig', 'malig_tcr_ki', 'malig_trr', 'perip_vasc', 'pre_tx_txfus']\n",
    "unique_categorical = ['abo_mat',,'dgn_tcr', 'diab', 'don_ty', 'education', 'end_stat',\n",
    "                      'end_stat_ki', 'ethcat', 'ethcat_don', 'ethnicity', 'func_stat_tcr', 'func_stat_trr', 'px_stat',\n",
    "                      'share_ty', 'tx_procedur_ty_ki', 'init_stat', 'txkid']\n",
    "zero_onecols = ['composite', 'ethnicity','outcome1', 'outcome2', 'pstatus', 'gstatus_ki', 'death']\n",
    "\n",
    "\n",
    "# Make numerical columns\n",
    "numerical_colz = ['a1','a2','age','age_don','amis','b1','b2','bmi_calc','bmi_don_calc','bmi_tcr','bmis',\n",
    "                  'cold_isch_ki', 'creat_trr', 'da1', 'da2', 'dayswait_chron_ki', 'db1', 'db2', 'ddr1',\n",
    "                  'ddr2', 'distance', 'dr1', 'dr2', 'drmis', 'end_bmi_calc', 'gtime_ki', 'gtime_yr', 'hgt_cm_calc',\n",
    "                  'hgt_cm_don_calc', 'hgt_cm_tcr', 'hlamis', 'init_age', 'init_hgt_cm', 'init_wgt_kg', 'los', 'npkid',\n",
    "                  'nppan', 'num_prev_tx', 'ptime', 'ra1', 'ra2', 'rb1', 'rb2', 'rdr1', 'rdr2', 'serum_creat', 'wgt_kg_calc',\n",
    "                  'wgt_kg_don_calc', 'wgt_kg_tcr']\n",
    "\n",
    "categorical_colz = (blood_cols + cols_P_N_U_ND + cols_P_N_U_ND_I_PD + cols_P_N_U_ND_I_C + genders\n",
    "+ yes_no + y_n_u_cols + unique_categorical + zero_onecols)\n"
   ]
  },
  {
   "cell_type": "code",
   "execution_count": 112,
   "metadata": {},
   "outputs": [
    {
     "data": {
      "text/plain": [
       "array([  0, 110, 111], dtype=int64)"
      ]
     },
     "execution_count": 112,
     "metadata": {},
     "output_type": "execute_result"
    }
   ],
   "source": [
    "# Function to get the column index from column name\n",
    "def column_index(df, query_cols):\n",
    "    cols = df.columns.values\n",
    "    sidx = np.argsort(cols)\n",
    "    return sidx[np.searchsorted(cols,query_cols,sorter=sidx)]\n",
    "\n",
    "# Where are our variables?\n",
    "column_index(df, ['death', 'gstatus_ki'])\n",
    "\n",
    "# Appending columns to the end of our dataframe\n",
    "cols = list(df.columns.values) #Make a list of all of the columns in the df\n",
    "\n",
    "cols.pop(cols.index('trr_id_code')) # Remove trr_id_code (primary key) from list\n",
    "cols.pop(cols.index('gstatus_ki')) #Remove death from list\n",
    "cols.pop(cols.index('death')) #Remove gstatus_ki from list\n",
    "df = df[['trr_id_code']+cols+['gstatus_ki','death']] #Create new dataframe with columns in the order\n",
    "\n",
    "# Where are our variables now ?\n",
    "column_index(df, ['trr_id_code','gstatus_ki', 'death'])"
   ]
  },
  {
   "cell_type": "code",
   "execution_count": 113,
   "metadata": {},
   "outputs": [],
   "source": [
    "categorical_columns = df[categorical_colz]\n",
    "numerical_columns = df[numerical_colz]"
   ]
  },
  {
   "cell_type": "code",
   "execution_count": 91,
   "metadata": {},
   "outputs": [],
   "source": [
    "def one_hot(df, categorical_columns):\n",
    "    for each in categorical_columns:\n",
    "        dummies = pd.get_dummies(df[each], prefix=each, drop_first=True)\n",
    "        df = pd.concat([df, dummies], axis=1)\n",
    "    return df\n",
    "\n",
    "df = one_hot(df, categorical_columns)"
   ]
  },
  {
   "cell_type": "code",
   "execution_count": 69,
   "metadata": {},
   "outputs": [
    {
     "data": {
      "text/plain": [
       "array(['trr_id_code', 'num_prev_tx', 'donation', 'on_dialysis', 'a1', 'a2',\n",
       "       'b1', 'b2', 'dr1', 'dr2', 'gender', 'abo', 'wgt_kg_tcr',\n",
       "       'hgt_cm_tcr', 'bmi_tcr', 'perm_state', 'education', 'func_stat_tcr',\n",
       "       'dgn_tcr', 'diab', 'drugtrt_copd', 'init_stat', 'init_wgt_kg',\n",
       "       'init_hgt_cm', 'end_stat', 'init_age', 'ethnicity', 'ethcat',\n",
       "       'end_bmi_calc', 'perip_vasc', 'exh_perit_access', 'exh_vasc_access',\n",
       "       'malig_tcr_ki', 'prev_tx', 'prev_ki_tx', 'func_stat_trr',\n",
       "       'malig_trr', 'creat_trr', 'first_wk_dial', 'serum_creat',\n",
       "       'pre_tx_txfus', 'txkid', 'don_retyp', 'da1', 'da2', 'db1', 'db2',\n",
       "       'ddr1', 'ddr2', 'ra1', 'ra2', 'rb1', 'rb2', 'rdr1', 'rdr2', 'amis',\n",
       "       'bmis', 'drmis', 'hlamis', 'npkid', 'nppan', 'age_don',\n",
       "       'hbv_core_don', 'hbv_sur_antigen_don', 'ethcat_don', 'abo_don',\n",
       "       'don_ty', 'gender_don', 'home_state_don', 'hist_cig_don',\n",
       "       'hist_hypertens_don', 'hist_cancer_don', 'diabetes_don',\n",
       "       'hgt_cm_don_calc', 'wgt_kg_don_calc', 'bmi_don_calc', 'end_stat_ki',\n",
       "       'abo_mat', 'age', 'distance', 'dial_trr', 'cold_isch_ki',\n",
       "       'grf_stat_ki', 'dwfg_ki', 'gtime_ki', 'dayswait_chron_ki',\n",
       "       'tx_procedur_ty_ki', 'cmv_igg', 'cmv_igm', 'ebv_serostatus',\n",
       "       'hbv_core', 'hbv_sur_antigen', 'hcv_serostatus', 'hiv_serostatus',\n",
       "       'cmv_status', 'prev_tx_any', 'px_stat', 'share_ty', 'pstatus',\n",
       "       'ptime', 'los', 'malig', 'hgt_cm_calc', 'wgt_kg_calc', 'bmi_calc',\n",
       "       'data_waitlist', 'gtime_yr', 'outcome1', 'outcome2', 'composite',\n",
       "       'gstatus_ki', 'death', 'abo_A1', 'abo_A1B', 'abo_A2', 'abo_A2B',\n",
       "       'abo_AB', 'abo_B', 'abo_O', 'abo_don_A1', 'abo_don_A1B',\n",
       "       'abo_don_A2', 'abo_don_A2B', 'abo_don_AB', 'abo_don_B', 'abo_don_O',\n",
       "       'cmv_igg_ND', 'cmv_igg_P', 'cmv_igg_U', 'cmv_igm_ND', 'cmv_igm_P',\n",
       "       'cmv_igm_U', 'cmv_status_ND', 'cmv_status_P', 'cmv_status_U',\n",
       "       'ebv_serostatus_ND', 'ebv_serostatus_P', 'ebv_serostatus_U',\n",
       "       'hbv_core_ND', 'hbv_core_P', 'hbv_core_U', 'hbv_sur_antigen_ND',\n",
       "       'hbv_sur_antigen_P', 'hbv_sur_antigen_U', 'hcv_serostatus_ND',\n",
       "       'hcv_serostatus_P', 'hcv_serostatus_U', 'hiv_serostatus_ND',\n",
       "       'hiv_serostatus_P', 'hiv_serostatus_U', 'hbv_core_don_N',\n",
       "       'hbv_core_don_ND', 'hbv_core_don_P', 'hbv_core_don_U',\n",
       "       'hbv_sur_antigen_don_I', 'hbv_sur_antigen_don_N',\n",
       "       'hbv_sur_antigen_don_ND', 'hbv_sur_antigen_don_P',\n",
       "       'hbv_sur_antigen_don_U', 'gender_M', 'gender_don_M', 'don_retyp_Y',\n",
       "       'donation_Y', 'dwfg_ki_Y', 'first_wk_dial_Y', 'grf_stat_ki_Y',\n",
       "       'on_dialysis_Y', 'prev_ki_tx_Y', 'prev_tx_Y', 'prev_tx_any_Y',\n",
       "       'diabetes_don_U', 'diabetes_don_Y', 'dial_trr_U', 'dial_trr_Y',\n",
       "       'drugtrt_copd_U', 'drugtrt_copd_Y', 'exh_perit_access_U',\n",
       "       'exh_perit_access_Y', 'exh_vasc_access_U', 'exh_vasc_access_Y',\n",
       "       'hist_cancer_don_U', 'hist_cancer_don_Y', 'hist_cig_don_U',\n",
       "       'hist_cig_don_Y', 'hist_hypertens_don_U', 'hist_hypertens_don_Y',\n",
       "       'malig_U', 'malig_Y', 'malig_tcr_ki_U', 'malig_tcr_ki_Y',\n",
       "       'malig_trr_U', 'malig_trr_Y', 'perip_vasc_U', 'perip_vasc_Y',\n",
       "       'pre_tx_txfus_U', 'pre_tx_txfus_Y', 'abo_mat_2.0', 'abo_mat_3.0',\n",
       "       'dgn_tcr_3000.0', 'dgn_tcr_3001.0', 'dgn_tcr_3002.0',\n",
       "       'dgn_tcr_3003.0', 'dgn_tcr_3004.0', 'dgn_tcr_3005.0',\n",
       "       'dgn_tcr_3006.0', 'dgn_tcr_3007.0', 'dgn_tcr_3008.0',\n",
       "       'dgn_tcr_3009.0', 'dgn_tcr_3010.0', 'dgn_tcr_3011.0',\n",
       "       'dgn_tcr_3012.0', 'dgn_tcr_3013.0', 'dgn_tcr_3014.0',\n",
       "       'dgn_tcr_3015.0', 'dgn_tcr_3016.0', 'dgn_tcr_3017.0',\n",
       "       'dgn_tcr_3018.0', 'dgn_tcr_3019.0', 'dgn_tcr_3020.0',\n",
       "       'dgn_tcr_3021.0', 'dgn_tcr_3022.0', 'dgn_tcr_3023.0',\n",
       "       'dgn_tcr_3024.0', 'dgn_tcr_3025.0', 'dgn_tcr_3026.0',\n",
       "       'dgn_tcr_3027.0', 'dgn_tcr_3028.0', 'dgn_tcr_3029.0',\n",
       "       'dgn_tcr_3030.0', 'dgn_tcr_3031.0', 'dgn_tcr_3032.0',\n",
       "       'dgn_tcr_3033.0', 'dgn_tcr_3034.0', 'dgn_tcr_3035.0',\n",
       "       'dgn_tcr_3036.0', 'dgn_tcr_3037.0', 'dgn_tcr_3038.0',\n",
       "       'dgn_tcr_3039.0', 'dgn_tcr_3040.0', 'dgn_tcr_3041.0',\n",
       "       'dgn_tcr_3042.0', 'dgn_tcr_3043.0', 'dgn_tcr_3044.0',\n",
       "       'dgn_tcr_3045.0', 'dgn_tcr_3046.0', 'dgn_tcr_3047.0',\n",
       "       'dgn_tcr_3048.0', 'dgn_tcr_3049.0', 'dgn_tcr_3050.0',\n",
       "       'dgn_tcr_3051.0', 'dgn_tcr_3052.0', 'dgn_tcr_3053.0',\n",
       "       'dgn_tcr_3054.0', 'dgn_tcr_3055.0', 'dgn_tcr_3056.0',\n",
       "       'dgn_tcr_3057.0', 'dgn_tcr_3058.0', 'dgn_tcr_3059.0',\n",
       "       'dgn_tcr_3060.0', 'dgn_tcr_3062.0', 'dgn_tcr_3063.0',\n",
       "       'dgn_tcr_3064.0', 'dgn_tcr_3066.0', 'dgn_tcr_3068.0',\n",
       "       'dgn_tcr_3069.0', 'dgn_tcr_3070.0', 'dgn_tcr_3071.0',\n",
       "       'dgn_tcr_3072.0', 'dgn_tcr_3073.0', 'dgn_tcr_3074.0', 'diab_2.0',\n",
       "       'diab_3.0', 'diab_4.0', 'diab_5.0', 'diab_998.0', 'don_ty_L',\n",
       "       'education_2.0', 'education_3.0', 'education_4.0', 'education_5.0',\n",
       "       'education_6.0', 'education_996.0', 'education_998.0',\n",
       "       'end_stat_4050.0', 'end_stat_4060.0', 'end_stat_4099.0',\n",
       "       'end_stat_ki_4050.0', 'end_stat_ki_4060.0', 'end_stat_ki_4099.0',\n",
       "       'ethcat_2', 'ethcat_4', 'ethcat_5', 'ethcat_6', 'ethcat_7',\n",
       "       'ethcat_9', 'ethcat_don_2', 'ethcat_don_4', 'ethcat_don_5',\n",
       "       'ethcat_don_6', 'ethcat_don_7', 'ethcat_don_9', 'ethcat_don_998',\n",
       "       'ethnicity_1', 'func_stat_tcr_2.0', 'func_stat_tcr_3.0',\n",
       "       'func_stat_tcr_996.0', 'func_stat_tcr_998.0',\n",
       "       'func_stat_tcr_2010.0', 'func_stat_tcr_2020.0',\n",
       "       'func_stat_tcr_2030.0', 'func_stat_tcr_2040.0',\n",
       "       'func_stat_tcr_2050.0', 'func_stat_tcr_2060.0',\n",
       "       'func_stat_tcr_2070.0', 'func_stat_tcr_2080.0',\n",
       "       'func_stat_tcr_2090.0', 'func_stat_tcr_2100.0',\n",
       "       'func_stat_tcr_4040.0', 'func_stat_tcr_4050.0',\n",
       "       'func_stat_tcr_4060.0', 'func_stat_tcr_4070.0',\n",
       "       'func_stat_tcr_4080.0', 'func_stat_tcr_4090.0',\n",
       "       'func_stat_tcr_4100.0', 'func_stat_trr_2.0', 'func_stat_trr_3.0',\n",
       "       'func_stat_trr_996.0', 'func_stat_trr_998.0',\n",
       "       'func_stat_trr_2010.0', 'func_stat_trr_2020.0',\n",
       "       'func_stat_trr_2030.0', 'func_stat_trr_2040.0',\n",
       "       'func_stat_trr_2050.0', 'func_stat_trr_2060.0',\n",
       "       'func_stat_trr_2070.0', 'func_stat_trr_2080.0',\n",
       "       'func_stat_trr_2090.0', 'func_stat_trr_2100.0', 'px_stat_D',\n",
       "       'px_stat_L', 'px_stat_R', 'share_ty_4', 'share_ty_5',\n",
       "       'tx_procedur_ty_ki_102', 'tx_procedur_ty_ki_103',\n",
       "       'tx_procedur_ty_ki_104', 'init_stat_4050.0', 'init_stat_4060.0',\n",
       "       'init_stat_4099.0', 'init_stat_4999.0', 'txkid_L', 'txkid_R',\n",
       "       'composite_1', 'ethnicity_1', 'outcome1_1', 'outcome2_1',\n",
       "       'pstatus_1', 'gstatus_ki_1', 'death_1'], dtype=object)"
      ]
     },
     "execution_count": 69,
     "metadata": {},
     "output_type": "execute_result"
    }
   ],
   "source": [
    "# df2_cols = df2.columns.get_values()\n",
    "# df2_cols\n",
    "df.columns.get_values()"
   ]
  },
  {
   "cell_type": "code",
   "execution_count": null,
   "metadata": {
    "collapsed": true
   },
   "outputs": [],
   "source": []
  },
  {
   "cell_type": "code",
   "execution_count": 65,
   "metadata": {},
   "outputs": [
    {
     "data": {
      "text/plain": [
       "(143628, 359)"
      ]
     },
     "execution_count": 65,
     "metadata": {},
     "output_type": "execute_result"
    }
   ],
   "source": [
    "df.shape"
   ]
  },
  {
   "cell_type": "code",
   "execution_count": 73,
   "metadata": {},
   "outputs": [
    {
     "data": {
      "text/plain": [
       "array([  0, 110, 111], dtype=int64)"
      ]
     },
     "execution_count": 73,
     "metadata": {},
     "output_type": "execute_result"
    }
   ],
   "source": [
    "column_index(df, ['trr_id_code','gstatus_ki', 'death'])"
   ]
  },
  {
   "cell_type": "code",
   "execution_count": 80,
   "metadata": {},
   "outputs": [],
   "source": [
    "X = df.iloc[:, 2:358].values\n",
    "y = df.iloc[:, 358].values"
   ]
  },
  {
   "cell_type": "code",
   "execution_count": null,
   "metadata": {},
   "outputs": [],
   "source": [
    "X = df[numerical_colz].values\n",
    "y = df.iloc[:, 112].values"
   ]
  },
  {
   "cell_type": "code",
   "execution_count": null,
   "metadata": {},
   "outputs": [],
   "source": []
  },
  {
   "cell_type": "code",
   "execution_count": null,
   "metadata": {},
   "outputs": [],
   "source": [
    "# clf = DecisionTreeClassifier(random_state=42)\n",
    "# le.fit_transform(X[:,1])\n",
    "# cross_val_score(clf, X, y, cv=10)"
   ]
  },
  {
   "cell_type": "code",
   "execution_count": 81,
   "metadata": {},
   "outputs": [],
   "source": [
    "from sklearn.cross_validation import train_test_split\n",
    "X_train, X_test, y_train, y_test = train_test_split(X, y, test_size = 0.25, random_state = 0)"
   ]
  },
  {
   "cell_type": "code",
   "execution_count": 82,
   "metadata": {},
   "outputs": [
    {
     "ename": "ValueError",
     "evalue": "could not convert string to float: 'Y'",
     "output_type": "error",
     "traceback": [
      "\u001b[1;31m---------------------------------------------------------------------------\u001b[0m",
      "\u001b[1;31mValueError\u001b[0m                                Traceback (most recent call last)",
      "\u001b[1;32m<ipython-input-82-cca9addfe959>\u001b[0m in \u001b[0;36m<module>\u001b[1;34m()\u001b[0m\n\u001b[0;32m      1\u001b[0m \u001b[1;32mfrom\u001b[0m \u001b[0msklearn\u001b[0m\u001b[1;33m.\u001b[0m\u001b[0mlinear_model\u001b[0m \u001b[1;32mimport\u001b[0m \u001b[0mLogisticRegression\u001b[0m\u001b[1;33m\u001b[0m\u001b[0m\n\u001b[0;32m      2\u001b[0m \u001b[0mclassifier\u001b[0m \u001b[1;33m=\u001b[0m \u001b[0mLogisticRegression\u001b[0m\u001b[1;33m(\u001b[0m\u001b[0mrandom_state\u001b[0m \u001b[1;33m=\u001b[0m \u001b[1;36m0\u001b[0m\u001b[1;33m)\u001b[0m\u001b[1;33m\u001b[0m\u001b[0m\n\u001b[1;32m----> 3\u001b[1;33m \u001b[0mclassifier\u001b[0m\u001b[1;33m.\u001b[0m\u001b[0mfit\u001b[0m\u001b[1;33m(\u001b[0m\u001b[0mX_train\u001b[0m\u001b[1;33m,\u001b[0m \u001b[0my_train\u001b[0m\u001b[1;33m)\u001b[0m\u001b[1;33m\u001b[0m\u001b[0m\n\u001b[0m",
      "\u001b[1;32m~\\Anaconda3\\lib\\site-packages\\sklearn\\linear_model\\logistic.py\u001b[0m in \u001b[0;36mfit\u001b[1;34m(self, X, y, sample_weight)\u001b[0m\n\u001b[0;32m   1214\u001b[0m \u001b[1;33m\u001b[0m\u001b[0m\n\u001b[0;32m   1215\u001b[0m         X, y = check_X_y(X, y, accept_sparse='csr', dtype=_dtype,\n\u001b[1;32m-> 1216\u001b[1;33m                          order=\"C\")\n\u001b[0m\u001b[0;32m   1217\u001b[0m         \u001b[0mcheck_classification_targets\u001b[0m\u001b[1;33m(\u001b[0m\u001b[0my\u001b[0m\u001b[1;33m)\u001b[0m\u001b[1;33m\u001b[0m\u001b[0m\n\u001b[0;32m   1218\u001b[0m         \u001b[0mself\u001b[0m\u001b[1;33m.\u001b[0m\u001b[0mclasses_\u001b[0m \u001b[1;33m=\u001b[0m \u001b[0mnp\u001b[0m\u001b[1;33m.\u001b[0m\u001b[0munique\u001b[0m\u001b[1;33m(\u001b[0m\u001b[0my\u001b[0m\u001b[1;33m)\u001b[0m\u001b[1;33m\u001b[0m\u001b[0m\n",
      "\u001b[1;32m~\\Anaconda3\\lib\\site-packages\\sklearn\\utils\\validation.py\u001b[0m in \u001b[0;36mcheck_X_y\u001b[1;34m(X, y, accept_sparse, dtype, order, copy, force_all_finite, ensure_2d, allow_nd, multi_output, ensure_min_samples, ensure_min_features, y_numeric, warn_on_dtype, estimator)\u001b[0m\n\u001b[0;32m    571\u001b[0m     X = check_array(X, accept_sparse, dtype, order, copy, force_all_finite,\n\u001b[0;32m    572\u001b[0m                     \u001b[0mensure_2d\u001b[0m\u001b[1;33m,\u001b[0m \u001b[0mallow_nd\u001b[0m\u001b[1;33m,\u001b[0m \u001b[0mensure_min_samples\u001b[0m\u001b[1;33m,\u001b[0m\u001b[1;33m\u001b[0m\u001b[0m\n\u001b[1;32m--> 573\u001b[1;33m                     ensure_min_features, warn_on_dtype, estimator)\n\u001b[0m\u001b[0;32m    574\u001b[0m     \u001b[1;32mif\u001b[0m \u001b[0mmulti_output\u001b[0m\u001b[1;33m:\u001b[0m\u001b[1;33m\u001b[0m\u001b[0m\n\u001b[0;32m    575\u001b[0m         y = check_array(y, 'csr', force_all_finite=True, ensure_2d=False,\n",
      "\u001b[1;32m~\\Anaconda3\\lib\\site-packages\\sklearn\\utils\\validation.py\u001b[0m in \u001b[0;36mcheck_array\u001b[1;34m(array, accept_sparse, dtype, order, copy, force_all_finite, ensure_2d, allow_nd, ensure_min_samples, ensure_min_features, warn_on_dtype, estimator)\u001b[0m\n\u001b[0;32m    431\u001b[0m                                       force_all_finite)\n\u001b[0;32m    432\u001b[0m     \u001b[1;32melse\u001b[0m\u001b[1;33m:\u001b[0m\u001b[1;33m\u001b[0m\u001b[0m\n\u001b[1;32m--> 433\u001b[1;33m         \u001b[0marray\u001b[0m \u001b[1;33m=\u001b[0m \u001b[0mnp\u001b[0m\u001b[1;33m.\u001b[0m\u001b[0marray\u001b[0m\u001b[1;33m(\u001b[0m\u001b[0marray\u001b[0m\u001b[1;33m,\u001b[0m \u001b[0mdtype\u001b[0m\u001b[1;33m=\u001b[0m\u001b[0mdtype\u001b[0m\u001b[1;33m,\u001b[0m \u001b[0morder\u001b[0m\u001b[1;33m=\u001b[0m\u001b[0morder\u001b[0m\u001b[1;33m,\u001b[0m \u001b[0mcopy\u001b[0m\u001b[1;33m=\u001b[0m\u001b[0mcopy\u001b[0m\u001b[1;33m)\u001b[0m\u001b[1;33m\u001b[0m\u001b[0m\n\u001b[0m\u001b[0;32m    434\u001b[0m \u001b[1;33m\u001b[0m\u001b[0m\n\u001b[0;32m    435\u001b[0m         \u001b[1;32mif\u001b[0m \u001b[0mensure_2d\u001b[0m\u001b[1;33m:\u001b[0m\u001b[1;33m\u001b[0m\u001b[0m\n",
      "\u001b[1;31mValueError\u001b[0m: could not convert string to float: 'Y'"
     ]
    }
   ],
   "source": [
    "from sklearn.linear_model import LogisticRegression\n",
    "classifier = LogisticRegression(random_state = 0)\n",
    "classifier.fit(X_train, y_train)"
   ]
  },
  {
   "cell_type": "code",
   "execution_count": null,
   "metadata": {},
   "outputs": [],
   "source": [
    "y_pred = classifier.predict(X_test)\n"
   ]
  },
  {
   "cell_type": "markdown",
   "metadata": {},
   "source": [
    "Use the df.rename() function and refer the columns to be renamed. Not all the columns have to be renamed:\n",
    "df = df.rename(columns={'oldName1': 'newName1', 'oldName2': 'newName2'})\n",
    "Or rename the existing DataFrame (rather than creating a copy) \n",
    "df.rename(columns={'oldName1': 'newName1', 'oldName2': 'newName2'}, inplace=True)\n"
   ]
  },
  {
   "cell_type": "code",
   "execution_count": null,
   "metadata": {},
   "outputs": [],
   "source": [
    "from sklearn.metrics import confusion_matrix\n",
    "cm = confusion_matrix(y_test, y_pred)"
   ]
  },
  {
   "cell_type": "code",
   "execution_count": null,
   "metadata": {},
   "outputs": [],
   "source": [
    "cm"
   ]
  },
  {
   "cell_type": "code",
   "execution_count": null,
   "metadata": {},
   "outputs": [],
   "source": []
  },
  {
   "cell_type": "code",
   "execution_count": null,
   "metadata": {},
   "outputs": [],
   "source": []
  },
  {
   "cell_type": "code",
   "execution_count": null,
   "metadata": {},
   "outputs": [],
   "source": []
  }
 ],
 "metadata": {
  "kernelspec": {
   "display_name": "Python 3",
   "language": "python",
   "name": "python3"
  },
  "language_info": {
   "codemirror_mode": {
    "name": "ipython",
    "version": 3
   },
   "file_extension": ".py",
   "mimetype": "text/x-python",
   "name": "python",
   "nbconvert_exporter": "python",
   "pygments_lexer": "ipython3",
   "version": "3.6.3"
  }
 },
 "nbformat": 4,
 "nbformat_minor": 2
}
