{
 "cells": [
  {
   "cell_type": "code",
   "execution_count": 11,
   "metadata": {
    "collapsed": true
   },
   "outputs": [],
   "source": [
    "import numpy as np\n",
    "import pandas as pd\n",
    "import matplotlib.pyplot as plt\n",
    "import datetime as dt\n",
    "import warnings\n",
    "warnings.filterwarnings('ignore')"
   ]
  },
  {
   "cell_type": "code",
   "execution_count": 12,
   "metadata": {},
   "outputs": [
    {
     "data": {
      "text/plain": [
       "(240379, 455)"
      ]
     },
     "execution_count": 12,
     "metadata": {},
     "output_type": "execute_result"
    }
   ],
   "source": [
    "df = pd.read_csv('Dataset.csv')\n",
    "df.shape"
   ]
  },
  {
   "cell_type": "code",
   "execution_count": 13,
   "metadata": {},
   "outputs": [
    {
     "data": {
      "text/plain": [
       "(240379, 144)"
      ]
     },
     "execution_count": 13,
     "metadata": {},
     "output_type": "execute_result"
    }
   ],
   "source": [
    "df = df.loc[:, df.isnull().mean() <.20]\n",
    "df.shape"
   ]
  },
  {
   "cell_type": "code",
   "execution_count": 14,
   "metadata": {
    "collapsed": true
   },
   "outputs": [],
   "source": [
    "def status(feature):\n",
    "    print('Processing', feature, ': OK')"
   ]
  },
  {
   "cell_type": "code",
   "execution_count": 15,
   "metadata": {},
   "outputs": [
    {
     "name": "stdout",
     "output_type": "stream",
     "text": [
      "Processing order_cols : OK\n"
     ]
    }
   ],
   "source": [
    "def order_cols():\n",
    "    global df\n",
    "    cols = list(df.columns.values) #Make a list of all of the columns in the df\n",
    "    cols.pop(cols.index('trr_id_code')) # Remove trr_id_code (primary key) from list\n",
    "    cols.pop(cols.index('gstatus_ki')) #Remove gstatus_ki from list\n",
    "    cols.pop(cols.index('death')) #Remove death from list\n",
    "    df = df[['trr_id_code']+cols+['gstatus_ki','death']] #Create new dataframe with columns in the order\n",
    "    status('order_cols')\n",
    "    \n",
    "order_cols()"
   ]
  },
  {
   "cell_type": "code",
   "execution_count": 16,
   "metadata": {},
   "outputs": [
    {
     "data": {
      "text/plain": [
       "array([142, 143], dtype=int64)"
      ]
     },
     "execution_count": 16,
     "metadata": {},
     "output_type": "execute_result"
    }
   ],
   "source": [
    "def column_index(df, query_cols):\n",
    "    cols = df.columns.values\n",
    "    sidx = np.argsort(cols)\n",
    "    return sidx[np.searchsorted(cols,query_cols,sorter=sidx)]\n",
    "\n",
    "column_index(df, ['gstatus_ki', 'death'])"
   ]
  },
  {
   "cell_type": "code",
   "execution_count": 17,
   "metadata": {},
   "outputs": [
    {
     "data": {
      "text/plain": [
       "(240379, 116)"
      ]
     },
     "execution_count": 17,
     "metadata": {},
     "output_type": "execute_result"
    }
   ],
   "source": [
    "def drop_cols(df):\n",
    "    drop_cols = ['wl_org', 'rem_cd', 'dayswait_chron', 'end_date', 'init_date', 'wt_qual_date',\n",
    "                  'init_bmi_calc', 'dayswait_alloc', 'region', 'pri_payment_tcr_ki', 'pri_payment_trr_ki',\n",
    "                  'citizenship_don', 'cancer_site_don', 'diag_ki', 'organ', 'med_cond_trr', 'payback',\n",
    "                  'age_group', 'lt_one_week_don', 'data_transplant', 'opo_ctr_code', 'end_opo_ctr_code',\n",
    "                  'listing_ctr_code', 'citizenship', 'init_opo_ctr_code','death_fail_ki','ctr_code','px_stat_date']\n",
    "    df.drop(drop_cols, inplace=True, axis=1)\n",
    "    return df.shape\n",
    "    status('drop_cols')\n",
    "\n",
    "drop_cols(df)"
   ]
  },
  {
   "cell_type": "code",
   "execution_count": 18,
   "metadata": {},
   "outputs": [
    {
     "data": {
      "text/plain": [
       "(143615, 116)"
      ]
     },
     "execution_count": 18,
     "metadata": {},
     "output_type": "execute_result"
    }
   ],
   "source": [
    "def drop_rows():\n",
    "    global df\n",
    "    df.dropna(how='any', inplace=True, axis=0)\n",
    "    return df.shape\n",
    "    status('drop_rows')\n",
    "\n",
    "drop_rows()"
   ]
  },
  {
   "cell_type": "code",
   "execution_count": 19,
   "metadata": {},
   "outputs": [
    {
     "name": "stdout",
     "output_type": "stream",
     "text": [
      "Processing format_funcstat_tcr : OK\n"
     ]
    }
   ],
   "source": [
    "def format_funcstat_tcr(df):\n",
    "    funcstat_cols = ['func_stat_tcr']\n",
    "    for i in funcstat_cols:\n",
    "        df[i] = df[i].map({2100:0, 4100:0, 1:0, 998:0, 996:0,\n",
    "                            2090:1, 4090:1,\n",
    "                            2080:2, 4080:2,\n",
    "                            2070:3, 4070:3,\n",
    "                            2060:4, 4060:4,\n",
    "                            2050:5, 4050:5, 2:5,\n",
    "                            2040:6, 4040:6,\n",
    "                            2030:7,\n",
    "                            2020:8,\n",
    "                            2010:9, \n",
    "                            3:10})\n",
    "    status('format_funcstat_tcr')\n",
    "    \n",
    "format_funcstat_tcr(df)"
   ]
  },
  {
   "cell_type": "code",
   "execution_count": 20,
   "metadata": {},
   "outputs": [
    {
     "name": "stdout",
     "output_type": "stream",
     "text": [
      "Processing format_funcstat_trr : OK\n"
     ]
    }
   ],
   "source": [
    "def format_funcstat_trr(df):\n",
    "    funcstat_cols = ['func_stat_trr']\n",
    "    for i in funcstat_cols:\n",
    "        df[i] = df[i].map({2100:0, 1:0, 996:0, 998:0,\n",
    "                            2090:1,\n",
    "                            2080:2,\n",
    "                            2070:3,\n",
    "                            2060:4,\n",
    "                            2050:5, 2:5,\n",
    "                            2040:6,\n",
    "                            2030:7,\n",
    "                            2020:8,\n",
    "                            2010:9,\n",
    "                            3:10})\n",
    "    status('format_funcstat_trr')\n",
    "    \n",
    "format_funcstat_trr(df)"
   ]
  },
  {
   "cell_type": "code",
   "execution_count": 21,
   "metadata": {},
   "outputs": [
    {
     "name": "stdout",
     "output_type": "stream",
     "text": [
      "Processing format_dates : OK\n"
     ]
    }
   ],
   "source": [
    "def format_dates(df):\n",
    "    date_cols = ['admission_date', 'discharge_date']\n",
    "    for i in date_cols:\n",
    "        df[i] = pd.to_datetime(df[i])\n",
    "    status('format_dates')\n",
    "\n",
    "format_dates(df)"
   ]
  },
  {
   "cell_type": "code",
   "execution_count": 22,
   "metadata": {},
   "outputs": [
    {
     "name": "stdout",
     "output_type": "stream",
     "text": [
      "Processing create_days : OK\n"
     ]
    }
   ],
   "source": [
    "def create_days(df):\n",
    "    df['days'] = df['discharge_date'] - df['admission_date']\n",
    "    drop_date_cols = ['discharge_date', 'admission_date']\n",
    "    df.drop(drop_date_cols, inplace=True, axis=1)\n",
    "    status('create_days')\n",
    "    \n",
    "create_days(df)"
   ]
  },
  {
   "cell_type": "code",
   "execution_count": 23,
   "metadata": {},
   "outputs": [
    {
     "name": "stdout",
     "output_type": "stream",
     "text": [
      "Processing format_yn : OK\n"
     ]
    }
   ],
   "source": [
    "def format_yn(df):\n",
    "    #dwfg_ki\n",
    "    yn_cols = ['data_waitlist', 'don_retyp', 'donation','first_wk_dial', 'on_dialysis', 'prev_ki_tx', 'prev_tx', 'prev_tx_any']\n",
    "    ynu_cols = ['diabetes_don', 'dial_trr','drugtrt_copd', 'exh_perit_access', 'exh_vasc_access',\n",
    "                'hist_cancer_don', 'hist_cig_don', 'hist_hypertens_don', 'malig', 'malig_tcr_ki',\n",
    "                'malig_trr', 'perip_vasc', 'pre_tx_txfus']\n",
    "    #grf_stat_ki\n",
    "    yes_no_u_cols = yn_cols + ynu_cols\n",
    "    for i in yes_no_u_cols:\n",
    "        df[i] = df[i].map({'Y':1,'N':0, 'U':0})\n",
    "    status('format_yn')\n",
    "\n",
    "format_yn(df)"
   ]
  },
  {
   "cell_type": "code",
   "execution_count": 24,
   "metadata": {},
   "outputs": [
    {
     "name": "stdout",
     "output_type": "stream",
     "text": [
      "Processing format_gender : OK\n"
     ]
    }
   ],
   "source": [
    "def format_gender(df):\n",
    "    gender_cols = ['gender', 'gender_don']\n",
    "    for i in gender_cols:\n",
    "        df[i] = df[i].map({'M':1, 'F':0})\n",
    "    status('format_gender')\n",
    "\n",
    "format_gender(df)"
   ]
  },
  {
   "cell_type": "code",
   "execution_count": 25,
   "metadata": {
    "collapsed": true
   },
   "outputs": [],
   "source": [
    "df.to_csv(r'C:\\Users\\agi\\Dropbox\\dfclean.csv' ,encoding='utf-8')"
   ]
  },
  {
   "cell_type": "code",
   "execution_count": null,
   "metadata": {
    "collapsed": true
   },
   "outputs": [],
   "source": []
  }
 ],
 "metadata": {
  "kernelspec": {
   "display_name": "Python 3",
   "language": "python",
   "name": "python3"
  },
  "language_info": {
   "codemirror_mode": {
    "name": "ipython",
    "version": 3
   },
   "file_extension": ".py",
   "mimetype": "text/x-python",
   "name": "python",
   "nbconvert_exporter": "python",
   "pygments_lexer": "ipython3",
   "version": "3.6.3"
  }
 },
 "nbformat": 4,
 "nbformat_minor": 2
}
