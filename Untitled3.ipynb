{
 "cells": [
  {
   "cell_type": "code",
   "execution_count": 455,
   "metadata": {
    "collapsed": true
   },
   "outputs": [],
   "source": [
    "import numpy as np\n",
    "import pandas as pd\n",
    "import matplotlib.pyplot as plt\n",
    "%matplotlib inline  "
   ]
  },
  {
   "cell_type": "code",
   "execution_count": 456,
   "metadata": {},
   "outputs": [
    {
     "name": "stderr",
     "output_type": "stream",
     "text": [
      "C:\\Users\\Agi\\Anaconda3\\lib\\site-packages\\IPython\\core\\interactiveshell.py:2698: DtypeWarning: Columns (6,16,24,31,38,40,43,57,62,70,71,72,73,75,76,77,78,84,99,103,118,126,128,158,160,161,162,163,167,187,194,197,198,199,200,201,202,203,205,207,214,217,222,228,229,231,237,243,264,265,266,292,354,355,362,364,379,385,386,387,389,403,404,405,406,407,408,409,410,411,413,417,438,443,444,445) have mixed types. Specify dtype option on import or set low_memory=False.\n",
      "  interactivity=interactivity, compiler=compiler, result=result)\n"
     ]
    },
    {
     "data": {
      "text/plain": [
       "(240379, 112)"
      ]
     },
     "execution_count": 456,
     "metadata": {},
     "output_type": "execute_result"
    }
   ],
   "source": [
    "df = pd.read_csv('Dataset.csv')\n",
    "drop_cols = ['wl_org', 'rem_cd', 'dayswait_chron', 'end_date', 'init_date', 'wt_qual_date',\n",
    "                  'init_bmi_calc', 'dayswait_alloc', 'region', 'pri_payment_tcr_ki', 'pri_payment_trr_ki',\n",
    "                  'citizenship_don', 'cancer_site_don', 'diag_ki', 'organ', 'med_cond_trr', 'payback',\n",
    "                  'age_group', 'lt_one_week_don', 'data_transplant', 'opo_ctr_code', 'end_opo_ctr_code',\n",
    "                  'listing_ctr_code', 'citizenship', 'init_opo_ctr_code','death_fail_ki','ctr_code',\n",
    "             'admission_date', 'discharge_date', 'px_stat_date', 'tx_date', 'tx_yr']\n",
    "df.drop(drop_cols, inplace=True, axis=1)\n",
    "df = df.loc[:, df.isnull().mean() <.20]\n",
    "df.shape"
   ]
  },
  {
   "cell_type": "code",
   "execution_count": 457,
   "metadata": {
    "collapsed": true
   },
   "outputs": [],
   "source": [
    "# df.to_csv(r'C:\\Users\\Agi\\Desktop\\DropBox\\Dropbox\\Classes\\ITSS 4354\\Final Project\\dfclean317.csv' , encoding='utf-8')\n",
    "# drop_cols2 = ['dgn_tcr', 'func_stat_tcr', 'func_stat_trr']\n",
    "# df.drop(drop_cols2, inplace=True, axis=1)"
   ]
  },
  {
   "cell_type": "code",
   "execution_count": 458,
   "metadata": {},
   "outputs": [
    {
     "data": {
      "text/plain": [
       "(143628, 112)"
      ]
     },
     "execution_count": 458,
     "metadata": {},
     "output_type": "execute_result"
    }
   ],
   "source": [
    "df.dropna(inplace=True)\n",
    "df.shape"
   ]
  },
  {
   "cell_type": "code",
   "execution_count": 459,
   "metadata": {},
   "outputs": [],
   "source": [
    "df['func_stat_tcr'] = df.func_stat_tcr.map({2100:0, 4100:0, 1:0,\n",
    "                                           2090:1, 4090:1,\n",
    "                                           2080:2, 4080:2,\n",
    "                                           2070:3, 4070:3,\n",
    "                                           2060:4, 4060:4,\n",
    "                                           2050:5, 4050:5, 2:5,\n",
    "                                           2040:6, 4040:6,\n",
    "                                           2030:7, 4030:7,\n",
    "                                           2020:8, 4020:8,\n",
    "                                           2010:9, 4010:9, \n",
    "                                           3:10})"
   ]
  },
  {
   "cell_type": "code",
   "execution_count": 460,
   "metadata": {},
   "outputs": [],
   "source": [
    "df['func_stat_trr'] = df.func_stat_trr.map({2100:0, 4100:0, 1:0,\n",
    "                                           2090:1, 4090:1,\n",
    "                                           2080:2, 4080:2,\n",
    "                                           2070:3, 4070:3,\n",
    "                                           2060:4, 4060:4,\n",
    "                                           2050:5, 4050:5, 2:5,\n",
    "                                           2040:6, 4040:6,\n",
    "                                           2030:7, 4030:7,\n",
    "                                           2020:8, 4020:8,\n",
    "                                           2010:9, 4010:9, \n",
    "                                           3:10})"
   ]
  },
  {
   "cell_type": "code",
   "execution_count": 462,
   "metadata": {
    "collapsed": true
   },
   "outputs": [],
   "source": [
    "#These are double checked categorical columns\n",
    "categorical_cols = ['abo', 'abo_don','cmv_igg','cmv_igm', 'cmv_status', 'ebv_serostatus', 'hbv_core', 'hbv_sur_antigen', 'hcv_serostatus', \n",
    "                 'hiv_serostatus','hbv_core_don','hbv_sur_antigen_don', 'abo_mat',\n",
    "                     'diab', 'don_ty', 'education', 'end_stat',\n",
    "                      'end_stat_ki', 'ethcat', 'ethcat_don', 'ethnicity', 'px_stat',\n",
    "                      'share_ty', 'tx_procedur_ty_ki', 'init_stat', 'txkid']\n",
    "# 'dgn_tcr','func_stat_tcr', 'func_stat_trr'\n",
    "categorical_cols = df[categorical_cols]\n",
    "#categorical_cols"
   ]
  },
  {
   "cell_type": "code",
   "execution_count": null,
   "metadata": {},
   "outputs": [],
   "source": []
  },
  {
   "cell_type": "code",
   "execution_count": 437,
   "metadata": {
    "collapsed": true
   },
   "outputs": [],
   "source": [
    "numerical_cols = ['a1','a2','age','age_don','amis','b1','b2','bmi_calc','bmi_don_calc','bmi_tcr','bmis',\n",
    "                  'cold_isch_ki', 'creat_trr', 'da1', 'da2', 'dayswait_chron_ki', 'db1', 'db2', 'ddr1',\n",
    "                  'ddr2', 'distance', 'dr1', 'dr2', 'drmis', 'end_bmi_calc', 'gtime_ki', 'gtime_yr', 'hgt_cm_calc',\n",
    "                  'hgt_cm_don_calc', 'hgt_cm_tcr', 'hlamis', 'init_age', 'init_hgt_cm', 'init_wgt_kg', 'los', 'npkid',\n",
    "                  'nppan', 'num_prev_tx', 'ptime', 'ra1', 'ra2', 'rb1', 'rb2', 'rdr1', 'rdr2', 'serum_creat', 'wgt_kg_calc',\n",
    "                  'wgt_kg_don_calc', 'wgt_kg_tcr','composite', 'ethnicity','outcome1', 'outcome2', 'pstatus', 'gstatus_ki',\n",
    "                  'death']\n",
    "numerical_cols = df[numerical_cols]\n",
    "#numerical_cols"
   ]
  },
  {
   "cell_type": "code",
   "execution_count": 438,
   "metadata": {},
   "outputs": [
    {
     "data": {
      "text/plain": [
       "a1                      31\n",
       "a2                      31\n",
       "age                     72\n",
       "age_don                 86\n",
       "amis                     3\n",
       "b1                      63\n",
       "b2                      63\n",
       "bmi_calc             43635\n",
       "bmi_don_calc         32799\n",
       "bmi_tcr              33703\n",
       "bmis                     3\n",
       "cold_isch_ki          4179\n",
       "creat_trr             1994\n",
       "da1                     32\n",
       "da2                     32\n",
       "dayswait_chron_ki     3828\n",
       "db1                     62\n",
       "db2                     63\n",
       "ddr1                    23\n",
       "ddr2                    24\n",
       "distance              2424\n",
       "dr1                     22\n",
       "dr2                     22\n",
       "drmis                    3\n",
       "end_bmi_calc         35050\n",
       "gtime_ki              5812\n",
       "gtime_yr              5812\n",
       "hgt_cm_calc            887\n",
       "hgt_cm_don_calc        815\n",
       "hgt_cm_tcr             829\n",
       "hlamis                   7\n",
       "init_age                80\n",
       "init_hgt_cm            848\n",
       "init_wgt_kg           5035\n",
       "los                    221\n",
       "npkid                    6\n",
       "nppan                    4\n",
       "num_prev_tx              9\n",
       "ptime                 5893\n",
       "ra1                     32\n",
       "ra2                     32\n",
       "rb1                     64\n",
       "rb2                     67\n",
       "rdr1                    24\n",
       "rdr2                    25\n",
       "serum_creat           1484\n",
       "wgt_kg_calc           5952\n",
       "wgt_kg_don_calc       3853\n",
       "wgt_kg_tcr            5866\n",
       "composite                2\n",
       "ethnicity                2\n",
       "outcome1                 2\n",
       "outcome2                 2\n",
       "pstatus                  2\n",
       "gstatus_ki               2\n",
       "death                    2\n",
       "dtype: int64"
      ]
     },
     "execution_count": 438,
     "metadata": {},
     "output_type": "execute_result"
    }
   ],
   "source": [
    "numerical_cols = numerical_cols.nunique()\n",
    "numerical_cols"
   ]
  },
  {
   "cell_type": "code",
   "execution_count": 439,
   "metadata": {},
   "outputs": [
    {
     "data": {
      "image/png": "[encoded data removed]",
      "text/plain": [
       "<matplotlib.figure.Figure at 0x2309195d1d0>"
      ]
     },
     "metadata": {},
     "output_type": "display_data"
    }
   ],
   "source": [
    "df.drmis.value_counts().plot(kind='bar')\n",
    "plt.show()"
   ]
  },
  {
   "cell_type": "code",
   "execution_count": 440,
   "metadata": {
    "collapsed": true
   },
   "outputs": [],
   "source": [
    "gender_cols = ['gender','gender_don']\n",
    "yes_no_cols = ['data_waitlist', 'don_retyp', 'donation', 'dwfg_ki', 'first_wk_dial', 'grf_stat_ki', 'on_dialysis', 'prev_ki_tx',\n",
    "          'prev_tx', 'prev_tx_any']\n",
    "ynu_cols = ['diabetes_don', 'dial_trr','drugtrt_copd', 'exh_perit_access', 'exh_vasc_access', 'hist_cancer_don',\n",
    "            'hist_cig_don', 'hist_hypertens_don', 'malig', 'malig_tcr_ki', 'malig_trr', 'perip_vasc', 'pre_tx_txfus']"
   ]
  },
  {
   "cell_type": "code",
   "execution_count": 441,
   "metadata": {
    "collapsed": true
   },
   "outputs": [],
   "source": [
    "def one_categ_col(df, categorical_cols):\n",
    "    for each in categorical_cols:\n",
    "        dummies = pd.get_dummies(df[each], prefix=each, drop_first=True)\n",
    "        df = pd.concat([df, dummies], axis=1)\n",
    "    return df\n",
    "\n",
    "df = one_categ_col(df, categorical_cols)"
   ]
  },
  {
   "cell_type": "code",
   "execution_count": 442,
   "metadata": {},
   "outputs": [
    {
     "data": {
      "text/plain": [
       "(143628, 208)"
      ]
     },
     "execution_count": 442,
     "metadata": {},
     "output_type": "execute_result"
    }
   ],
   "source": [
    "df.shape"
   ]
  },
  {
   "cell_type": "code",
   "execution_count": 443,
   "metadata": {},
   "outputs": [
    {
     "data": {
      "text/plain": [
       "(143628, 209)"
      ]
     },
     "execution_count": 443,
     "metadata": {},
     "output_type": "execute_result"
    }
   ],
   "source": [
    "gender_dummies = pd.get_dummies(df.gender, prefix ='gender').iloc[:,1:]\n",
    "df = pd.concat([df, gender_dummies], axis=1)\n",
    "df.shape"
   ]
  },
  {
   "cell_type": "code",
   "execution_count": 444,
   "metadata": {},
   "outputs": [
    {
     "data": {
      "text/plain": [
       "(143628, 210)"
      ]
     },
     "execution_count": 444,
     "metadata": {},
     "output_type": "execute_result"
    }
   ],
   "source": [
    "gender_don_dummies = pd.get_dummies(df.gender, prefix ='gender_don').iloc[:,1:]\n",
    "df = pd.concat([df, gender_don_dummies], axis=1)\n",
    "df.shape"
   ]
  },
  {
   "cell_type": "code",
   "execution_count": 445,
   "metadata": {
    "collapsed": true
   },
   "outputs": [],
   "source": [
    "df['data_waitlist'] = df.data_waitlist.map({'N':0, 'Y':1})\n",
    "df['don_retyp'] = df.don_retyp.map({'N':0, 'Y':1})\n",
    "df['donation'] = df.donation.map({'N':0, 'Y':1})\n",
    "df['dwfg_ki'] = df.dwfg_ki.map({'N':0, 'Y':1})\n",
    "df['first_wk_dial'] = df.first_wk_dial.map({'N':0, 'Y':1})\n",
    "df['grf_stat_ki'] = df.grf_stat_ki.map({'N':0, 'Y':1})\n",
    "df['on_dialysis'] = df.on_dialysis.map({'N':0, 'Y':1})\n",
    "df['prev_ki_tx'] = df.prev_ki_tx.map({'N':0, 'Y':1})\n",
    "df['prev_tx'] = df.prev_tx.map({'N':0, 'Y':1})\n",
    "df['prev_tx_any'] = df.prev_tx_any.map({'N':0, 'Y':1})"
   ]
  },
  {
   "cell_type": "code",
   "execution_count": 446,
   "metadata": {
    "collapsed": true
   },
   "outputs": [],
   "source": [
    "df['diabetes_don'] = df.diabetes_don.map({'N':0, 'Y':1, 'U':0})\n",
    "df['dial_trr'] = df.dial_trr.map({'N':0, 'Y':1, 'U':0})\n",
    "df['drugtrt_copd'] = df.drugtrt_copd.map({'N':0, 'Y':1, 'U':0})\n",
    "df['exh_perit_access'] = df.exh_perit_access.map({'N':0, 'Y':1, 'U':0})\n",
    "df['exh_vasc_access'] = df.exh_vasc_access.map({'N':0, 'Y':1, 'U':0})\n",
    "df['hist_cancer_don'] = df.hist_cancer_don.map({'N':0, 'Y':1, 'U':0})\n",
    "df['hist_cig_don'] = df.hist_cig_don.map({'N':0, 'Y':1, 'U':0})\n",
    "df['hist_hypertens_don'] = df.hist_hypertens_don.map({'N':0, 'Y':1, 'U':0})\n",
    "df['malig'] = df.malig.map({'N':0, 'Y':1, 'U':0})\n",
    "df['malig_tcr_ki'] = df.malig_tcr_ki.map({'N':0, 'Y':1, 'U':0})\n",
    "df['malig_trr'] = df.malig_trr.map({'N':0, 'Y':1, 'U':0})\n",
    "df['pre_tx_txfus'] = df.pre_tx_txfus.map({'N':0, 'Y':1, 'U':0})\n",
    "df['perip_vasc'] = df.perip_vasc.map({'N':0, 'Y':1, 'U':0})"
   ]
  },
  {
   "cell_type": "code",
   "execution_count": 447,
   "metadata": {},
   "outputs": [
    {
     "data": {
      "text/plain": [
       "array([  0, 208, 209], dtype=int64)"
      ]
     },
     "execution_count": 447,
     "metadata": {},
     "output_type": "execute_result"
    }
   ],
   "source": [
    "# Function to get the column index from column name\n",
    "def column_index(df, query_cols):\n",
    "    cols = df.columns.values\n",
    "    sidx = np.argsort(cols)\n",
    "    return sidx[np.searchsorted(cols,query_cols,sorter=sidx)]\n",
    "\n",
    "# Where are our variables?\n",
    "column_index(df, ['death', 'gstatus_ki'])\n",
    "\n",
    "# Appending columns to the end of our dataframe\n",
    "cols = list(df.columns.values) #Make a list of all of the columns in the df\n",
    "\n",
    "cols.pop(cols.index('trr_id_code')) # Remove trr_id_code (primary key) from list\n",
    "cols.pop(cols.index('gstatus_ki')) #Remove death from list\n",
    "cols.pop(cols.index('death')) #Remove gstatus_ki from list\n",
    "df = df[['trr_id_code']+cols+['gstatus_ki','death']] #Create new dataframe with columns in the order\n",
    "\n",
    "# Where are our variables now ?\n",
    "column_index(df, ['trr_id_code','gstatus_ki', 'death'])"
   ]
  },
  {
   "cell_type": "code",
   "execution_count": null,
   "metadata": {
    "collapsed": true
   },
   "outputs": [],
   "source": []
  },
  {
   "cell_type": "code",
   "execution_count": null,
   "metadata": {
    "collapsed": true
   },
   "outputs": [],
   "source": []
  },
  {
   "cell_type": "code",
   "execution_count": 448,
   "metadata": {
    "collapsed": true
   },
   "outputs": [],
   "source": [
    "# df.to_csv(r'C:\\Users\\Agi\\Desktop\\DropBox\\Dropbox\\Classes\\ITSS 4354\\Final Project\\dfcleann.csv' , encoding='utf-8')"
   ]
  },
  {
   "cell_type": "code",
   "execution_count": 449,
   "metadata": {
    "collapsed": true
   },
   "outputs": [],
   "source": [
    "# df.abo.value_counts()"
   ]
  },
  {
   "cell_type": "code",
   "execution_count": null,
   "metadata": {
    "collapsed": true
   },
   "outputs": [],
   "source": []
  },
  {
   "cell_type": "code",
   "execution_count": 450,
   "metadata": {
    "collapsed": true
   },
   "outputs": [],
   "source": [
    "df.drop(['abo', 'abo_don','cmv_igg','cmv_igm', 'cmv_status', 'ebv_serostatus', 'hbv_core', 'hbv_sur_antigen', 'hcv_serostatus', \n",
    "                 'hiv_serostatus','hbv_core_don','hbv_sur_antigen_don','abo_mat', 'diab', 'don_ty', 'education', 'end_stat',\n",
    "                      'end_stat_ki', 'ethcat', 'ethcat_don', 'ethnicity', 'px_stat',\n",
    "                      'share_ty', 'tx_procedur_ty_ki', 'init_stat', 'txkid','perm_state','home_state_don', 'gender', 'gender_don',\n",
    "        ], axis=1, inplace=True)\n",
    "# 'func_stat_tcr', 'func_stat_trr', 'dgn_tcr'"
   ]
  },
  {
   "cell_type": "code",
   "execution_count": 451,
   "metadata": {},
   "outputs": [
    {
     "data": {
      "text/plain": [
       "array([  0, 178, 179], dtype=int64)"
      ]
     },
     "execution_count": 451,
     "metadata": {},
     "output_type": "execute_result"
    }
   ],
   "source": [
    "column_index(df, ['trr_id_code','gstatus_ki', 'death'])"
   ]
  },
  {
   "cell_type": "code",
   "execution_count": 452,
   "metadata": {},
   "outputs": [
    {
     "data": {
      "text/plain": [
       "array([ 26,  13, 179], dtype=int64)"
      ]
     },
     "execution_count": 452,
     "metadata": {},
     "output_type": "execute_result"
    }
   ],
   "source": [
    "column_index(df, ['func_stat_trr','func_stat_tcr', 'death'])"
   ]
  },
  {
   "cell_type": "code",
   "execution_count": 453,
   "metadata": {},
   "outputs": [
    {
     "data": {
      "text/plain": [
       "31        False\n",
       "54        False\n",
       "61        False\n",
       "74        False\n",
       "107       False\n",
       "136       False\n",
       "169       False\n",
       "192       False\n",
       "259       False\n",
       "273        True\n",
       "283       False\n",
       "317        True\n",
       "329       False\n",
       "378        True\n",
       "388       False\n",
       "391       False\n",
       "433       False\n",
       "442        True\n",
       "457       False\n",
       "458       False\n",
       "467       False\n",
       "469       False\n",
       "471       False\n",
       "472        True\n",
       "473       False\n",
       "480       False\n",
       "485       False\n",
       "488       False\n",
       "489       False\n",
       "492       False\n",
       "          ...  \n",
       "236783    False\n",
       "236791    False\n",
       "236799    False\n",
       "236806    False\n",
       "236819    False\n",
       "236828    False\n",
       "236839    False\n",
       "236853    False\n",
       "236867    False\n",
       "236875    False\n",
       "236892    False\n",
       "236910    False\n",
       "236932    False\n",
       "236948    False\n",
       "236971    False\n",
       "236996    False\n",
       "237000    False\n",
       "237005    False\n",
       "237009    False\n",
       "237049    False\n",
       "237074    False\n",
       "237089    False\n",
       "237151    False\n",
       "237152    False\n",
       "237163    False\n",
       "237188    False\n",
       "237196    False\n",
       "237199    False\n",
       "237332    False\n",
       "237401    False\n",
       "Name: func_stat_trr, Length: 143628, dtype: bool"
      ]
     },
     "execution_count": 453,
     "metadata": {},
     "output_type": "execute_result"
    }
   ],
   "source": [
    "df.func_stat_trr.isnull()"
   ]
  },
  {
   "cell_type": "code",
   "execution_count": 415,
   "metadata": {},
   "outputs": [],
   "source": [
    "df = df.apply(lambda x: pd.to_numeric(x,errors='ignore'))"
   ]
  },
  {
   "cell_type": "code",
   "execution_count": 416,
   "metadata": {
    "collapsed": true
   },
   "outputs": [],
   "source": [
    "X = df.iloc[:, 26:179].values\n",
    "y = df.iloc[:, [179]].values\n",
    "\n",
    "\n"
   ]
  },
  {
   "cell_type": "code",
   "execution_count": 417,
   "metadata": {
    "collapsed": true
   },
   "outputs": [],
   "source": [
    "from sklearn.cross_validation import train_test_split\n",
    "X_train, X_test, y_train, y_test = train_test_split(X, y, test_size = 0.30, random_state = 0)"
   ]
  },
  {
   "cell_type": "code",
   "execution_count": 418,
   "metadata": {},
   "outputs": [
    {
     "ename": "ValueError",
     "evalue": "Input contains NaN, infinity or a value too large for dtype('float32').",
     "output_type": "error",
     "traceback": [
      "\u001b[1;31m---------------------------------------------------------------------------\u001b[0m",
      "\u001b[1;31mValueError\u001b[0m                                Traceback (most recent call last)",
      "\u001b[1;32m<ipython-input-418-6dc80f0908c3>\u001b[0m in \u001b[0;36m<module>\u001b[1;34m()\u001b[0m\n\u001b[0;32m      1\u001b[0m \u001b[1;32mfrom\u001b[0m \u001b[0msklearn\u001b[0m\u001b[1;33m.\u001b[0m\u001b[0mensemble\u001b[0m \u001b[1;32mimport\u001b[0m \u001b[0mRandomForestClassifier\u001b[0m\u001b[1;33m\u001b[0m\u001b[0m\n\u001b[0;32m      2\u001b[0m \u001b[0mclassifier\u001b[0m \u001b[1;33m=\u001b[0m \u001b[0mRandomForestClassifier\u001b[0m\u001b[1;33m(\u001b[0m\u001b[0mn_estimators\u001b[0m \u001b[1;33m=\u001b[0m \u001b[1;36m10\u001b[0m\u001b[1;33m,\u001b[0m \u001b[0mcriterion\u001b[0m \u001b[1;33m=\u001b[0m \u001b[1;34m'entropy'\u001b[0m\u001b[1;33m,\u001b[0m \u001b[0mrandom_state\u001b[0m \u001b[1;33m=\u001b[0m \u001b[1;36m0\u001b[0m\u001b[1;33m)\u001b[0m\u001b[1;33m\u001b[0m\u001b[0m\n\u001b[1;32m----> 3\u001b[1;33m \u001b[0mclassifier\u001b[0m\u001b[1;33m.\u001b[0m\u001b[0mfit\u001b[0m\u001b[1;33m(\u001b[0m\u001b[0mX_train\u001b[0m\u001b[1;33m,\u001b[0m \u001b[0my_train\u001b[0m\u001b[1;33m)\u001b[0m\u001b[1;33m\u001b[0m\u001b[0m\n\u001b[0m",
      "\u001b[1;32m~\\Anaconda3\\lib\\site-packages\\sklearn\\ensemble\\forest.py\u001b[0m in \u001b[0;36mfit\u001b[1;34m(self, X, y, sample_weight)\u001b[0m\n\u001b[0;32m    245\u001b[0m         \"\"\"\n\u001b[0;32m    246\u001b[0m         \u001b[1;31m# Validate or convert input data\u001b[0m\u001b[1;33m\u001b[0m\u001b[1;33m\u001b[0m\u001b[0m\n\u001b[1;32m--> 247\u001b[1;33m         \u001b[0mX\u001b[0m \u001b[1;33m=\u001b[0m \u001b[0mcheck_array\u001b[0m\u001b[1;33m(\u001b[0m\u001b[0mX\u001b[0m\u001b[1;33m,\u001b[0m \u001b[0maccept_sparse\u001b[0m\u001b[1;33m=\u001b[0m\u001b[1;34m\"csc\"\u001b[0m\u001b[1;33m,\u001b[0m \u001b[0mdtype\u001b[0m\u001b[1;33m=\u001b[0m\u001b[0mDTYPE\u001b[0m\u001b[1;33m)\u001b[0m\u001b[1;33m\u001b[0m\u001b[0m\n\u001b[0m\u001b[0;32m    248\u001b[0m         \u001b[0my\u001b[0m \u001b[1;33m=\u001b[0m \u001b[0mcheck_array\u001b[0m\u001b[1;33m(\u001b[0m\u001b[0my\u001b[0m\u001b[1;33m,\u001b[0m \u001b[0maccept_sparse\u001b[0m\u001b[1;33m=\u001b[0m\u001b[1;34m'csc'\u001b[0m\u001b[1;33m,\u001b[0m \u001b[0mensure_2d\u001b[0m\u001b[1;33m=\u001b[0m\u001b[1;32mFalse\u001b[0m\u001b[1;33m,\u001b[0m \u001b[0mdtype\u001b[0m\u001b[1;33m=\u001b[0m\u001b[1;32mNone\u001b[0m\u001b[1;33m)\u001b[0m\u001b[1;33m\u001b[0m\u001b[0m\n\u001b[0;32m    249\u001b[0m         \u001b[1;32mif\u001b[0m \u001b[0msample_weight\u001b[0m \u001b[1;32mis\u001b[0m \u001b[1;32mnot\u001b[0m \u001b[1;32mNone\u001b[0m\u001b[1;33m:\u001b[0m\u001b[1;33m\u001b[0m\u001b[0m\n",
      "\u001b[1;32m~\\Anaconda3\\lib\\site-packages\\sklearn\\utils\\validation.py\u001b[0m in \u001b[0;36mcheck_array\u001b[1;34m(array, accept_sparse, dtype, order, copy, force_all_finite, ensure_2d, allow_nd, ensure_min_samples, ensure_min_features, warn_on_dtype, estimator)\u001b[0m\n\u001b[0;32m    451\u001b[0m                              % (array.ndim, estimator_name))\n\u001b[0;32m    452\u001b[0m         \u001b[1;32mif\u001b[0m \u001b[0mforce_all_finite\u001b[0m\u001b[1;33m:\u001b[0m\u001b[1;33m\u001b[0m\u001b[0m\n\u001b[1;32m--> 453\u001b[1;33m             \u001b[0m_assert_all_finite\u001b[0m\u001b[1;33m(\u001b[0m\u001b[0marray\u001b[0m\u001b[1;33m)\u001b[0m\u001b[1;33m\u001b[0m\u001b[0m\n\u001b[0m\u001b[0;32m    454\u001b[0m \u001b[1;33m\u001b[0m\u001b[0m\n\u001b[0;32m    455\u001b[0m     \u001b[0mshape_repr\u001b[0m \u001b[1;33m=\u001b[0m \u001b[0m_shape_repr\u001b[0m\u001b[1;33m(\u001b[0m\u001b[0marray\u001b[0m\u001b[1;33m.\u001b[0m\u001b[0mshape\u001b[0m\u001b[1;33m)\u001b[0m\u001b[1;33m\u001b[0m\u001b[0m\n",
      "\u001b[1;32m~\\Anaconda3\\lib\\site-packages\\sklearn\\utils\\validation.py\u001b[0m in \u001b[0;36m_assert_all_finite\u001b[1;34m(X)\u001b[0m\n\u001b[0;32m     42\u001b[0m             and not np.isfinite(X).all()):\n\u001b[0;32m     43\u001b[0m         raise ValueError(\"Input contains NaN, infinity\"\n\u001b[1;32m---> 44\u001b[1;33m                          \" or a value too large for %r.\" % X.dtype)\n\u001b[0m\u001b[0;32m     45\u001b[0m \u001b[1;33m\u001b[0m\u001b[0m\n\u001b[0;32m     46\u001b[0m \u001b[1;33m\u001b[0m\u001b[0m\n",
      "\u001b[1;31mValueError\u001b[0m: Input contains NaN, infinity or a value too large for dtype('float32')."
     ]
    }
   ],
   "source": [
    "from sklearn.ensemble import RandomForestClassifier\n",
    "classifier = RandomForestClassifier(n_estimators = 10, criterion = 'entropy', random_state = 0)\n",
    "classifier.fit(X_train, y_train)"
   ]
  },
  {
   "cell_type": "code",
   "execution_count": null,
   "metadata": {
    "collapsed": true
   },
   "outputs": [],
   "source": [
    "y_pred = classifier.predict(X_test)\n"
   ]
  },
  {
   "cell_type": "code",
   "execution_count": null,
   "metadata": {
    "collapsed": true
   },
   "outputs": [],
   "source": [
    "from sklearn.metrics import confusion_matrix\n",
    "cm = confusion_matrix(y_test, y_pred)"
   ]
  },
  {
   "cell_type": "code",
   "execution_count": null,
   "metadata": {},
   "outputs": [],
   "source": [
    "cm"
   ]
  },
  {
   "cell_type": "code",
   "execution_count": null,
   "metadata": {},
   "outputs": [],
   "source": [
    "x = classifier.feature_importances_.tolist()"
   ]
  },
  {
   "cell_type": "code",
   "execution_count": null,
   "metadata": {},
   "outputs": [],
   "source": [
    "min(x)"
   ]
  },
  {
   "cell_type": "code",
   "execution_count": null,
   "metadata": {},
   "outputs": [],
   "source": [
    "x.index(max(x))"
   ]
  },
  {
   "cell_type": "code",
   "execution_count": null,
   "metadata": {},
   "outputs": [],
   "source": []
  },
  {
   "cell_type": "code",
   "execution_count": null,
   "metadata": {
    "collapsed": true
   },
   "outputs": [],
   "source": [
    "# from sklearn.model_selection import cross_val_score\n",
    "# from sklearn.tree import DecisionTreeClassifier\n",
    "# clf = tree.DecisionTreeClassifier(random_state=0)\n",
    "# myscore = cross_val_score(clf, X, y, cv=10)\n",
    "# from sklearn import tree\n",
    "# clf = tree.DecisionTreeClassifier()\n",
    "# clf = clf.fit(X, y)"
   ]
  },
  {
   "cell_type": "code",
   "execution_count": null,
   "metadata": {
    "collapsed": true
   },
   "outputs": [],
   "source": []
  },
  {
   "cell_type": "code",
   "execution_count": null,
   "metadata": {},
   "outputs": [],
   "source": [
    "df.loc[:,['tx_date','tx_yr','admission_date','discharge_date']]\n",
    "# dates = ['tx_date','admission_date', 'discharge_date']\n",
    "# for i in dates:\n",
    "#     df[i] = pd.to_datetime(df[i])"
   ]
  },
  {
   "cell_type": "code",
   "execution_count": null,
   "metadata": {},
   "outputs": [],
   "source": [
    "df.func_stat_tcr.isnull().value_counts()"
   ]
  },
  {
   "cell_type": "code",
   "execution_count": null,
   "metadata": {},
   "outputs": [],
   "source": []
  },
  {
   "cell_type": "code",
   "execution_count": null,
   "metadata": {},
   "outputs": [],
   "source": []
  },
  {
   "cell_type": "code",
   "execution_count": null,
   "metadata": {},
   "outputs": [],
   "source": []
  }
 ],
 "metadata": {
  "kernelspec": {
   "display_name": "Python 3",
   "language": "python",
   "name": "python3"
  },
  "language_info": {
   "codemirror_mode": {
    "name": "ipython",
    "version": 3
   },
   "file_extension": ".py",
   "mimetype": "text/x-python",
   "name": "python",
   "nbconvert_exporter": "python",
   "pygments_lexer": "ipython3",
   "version": "3.6.3"
  }
 },
 "nbformat": 4,
 "nbformat_minor": 2
}
