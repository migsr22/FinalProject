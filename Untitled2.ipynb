{
 "cells": [
  {
   "cell_type": "code",
   "execution_count": 1,
   "metadata": {},
   "outputs": [],
   "source": [
    "numerical_cols = ['a1','a2','age','age_don','amis','b1','b2','bmi_calc','bmi_don_calc','bmi_tcr','bmis',\n",
    "                  'cold_isch_ki', 'creat_trr', 'da1', 'da2', 'dayswait_chron_ki', 'db1', 'db2', 'ddr1',\n",
    "                  'ddr2', 'distance', 'dr1', 'dr2', 'drmis', 'end_bmi_calc', 'gtime_ki', 'gtime_yr', 'hgt_cm_calc',\n",
    "                  'hgt_cm_don_calc', 'hgt_cm_tcr', 'hlamis', 'init_age', 'init_hgt_cm', 'init_wgt_kg', 'los', 'npkid',\n",
    "                  'nppan', 'num_prev_tx', 'ptime', 'ra1', 'ra2', 'rb1', 'rb2', 'rdr1', 'rdr2', 'serum_creat', 'wgt_kg_calc',\n",
    "                  'wgt_kg_don_calc', 'wgt_kg_tcr']"
   ]
  },
  {
   "cell_type": "code",
   "execution_count": 4,
   "metadata": {},
   "outputs": [],
   "source": [
    "blood_cols = ['abo', 'abo_don']\n",
    "cols_P_N_U_ND = ['cmv_igg','cmv_igm', 'cmv_status', 'ebv_serostatus', 'hbv_core', 'hbv_sur_antigen', 'hcv_serostatus', \n",
    "                 'hiv_serostatus']\n",
    "cols_P_N_U_ND_I_PD = ['hbv_core_don']\n",
    "cols_P_N_U_ND_I_C = ['hbv_sur_antigen_don']\n",
    "genders = ['gender','gender_don']\n",
    "yes_no = ['data_waitlist', 'don_retyp', 'donation', 'dwfg_ki', 'first_wk_dial', 'grf_stat_ki', 'on_dialysis', 'prev_ki_tx',\n",
    "          'prev_tx', 'prev_tx_any']\n",
    "y_n_u_cols = ['diabetes_don', 'dial_trr','drugtrt_copd', 'exh_perit_access', 'exh_vasc_access', 'hist_cancer_don',\n",
    "              'hist_cig_don', 'hist_hypertens_don', 'malig', 'malig_tcr_ki', 'malig_trr', 'perip_vasc', 'pre_tx_txfus']\n",
    "unique_categorical = ['abo_mat','dgn_tcr', 'diab', 'don_ty', 'education', 'end_stat',\n",
    "                      'end_stat_ki', 'ethcat', 'ethcat_don', 'ethnicity', 'func_stat_tcr', 'func_stat_trr', 'px_stat',\n",
    "                      'share_ty', 'tx_procedur_ty_ki', 'init_stat', 'txkid']\n",
    "zero_onecols = ['composite', 'ethnicity','outcome1', 'outcome2', 'pstatus', 'gstatus_ki', 'death']"
   ]
  },
  {
   "cell_type": "code",
   "execution_count": null,
   "metadata": {},
   "outputs": [],
   "source": [
    "dates_cols = ['admission_date', 'discharge_date', 'px_stat_date', 'tx_date', 'tx_yr']"
   ]
  },
  {
   "cell_type": "code",
   "execution_count": 3,
   "metadata": {},
   "outputs": [],
   "source": [
    "import itertools"
   ]
  },
  {
   "cell_type": "code",
   "execution_count": 11,
   "metadata": {},
   "outputs": [],
   "source": [
    "categorical_stuff = (categorical_cols + cols_P_N_U_ND + cols_P_N_U_ND_I_PD + cols_P_N_U_ND_I_C + genders\n",
    "+ yes_no + y_n_u_cols + unique_categorical + zero_onecols)"
   ]
  },
  {
   "cell_type": "code",
   "execution_count": 16,
   "metadata": {},
   "outputs": [
    {
     "data": {
      "text/plain": [
       "['abo',\n",
       " 'abo_don',\n",
       " 'cmv_igg',\n",
       " 'cmv_igm',\n",
       " 'cmv_status',\n",
       " 'ebv_serostatus',\n",
       " 'hbv_core',\n",
       " 'hbv_sur_antigen',\n",
       " 'hcv_serostatus',\n",
       " 'hiv_serostatus',\n",
       " 'hbv_core_don',\n",
       " 'hbv_sur_antigen_don',\n",
       " 'gender',\n",
       " 'gender_don',\n",
       " 'data_waitlist',\n",
       " 'don_retyp',\n",
       " 'donation',\n",
       " 'dwfg_ki',\n",
       " 'first_wk_dial',\n",
       " 'grf_stat_ki',\n",
       " 'on_dialysis',\n",
       " 'prev_ki_tx',\n",
       " 'prev_tx',\n",
       " 'prev_tx_any',\n",
       " 'diabetes_don',\n",
       " 'dial_trr',\n",
       " 'drugtrt_copd',\n",
       " 'exh_perit_access',\n",
       " 'exh_vasc_access',\n",
       " 'hist_cancer_don',\n",
       " 'hist_cig_don',\n",
       " 'hist_hypertens_don',\n",
       " 'malig',\n",
       " 'malig_tcr_ki',\n",
       " 'malig_trr',\n",
       " 'perip_vasc',\n",
       " 'pre_tx_txfus',\n",
       " 'abo_mat',\n",
       " 'ctr_code',\n",
       " 'death_fail_ki',\n",
       " 'dgn_tcr',\n",
       " 'diab',\n",
       " 'don_ty',\n",
       " 'education',\n",
       " 'end_stat',\n",
       " 'end_stat_ki',\n",
       " 'ethcat',\n",
       " 'ethcat_don',\n",
       " 'ethnicity',\n",
       " 'func_stat_tcr',\n",
       " 'func_stat_trr',\n",
       " 'px_stat',\n",
       " 'share_ty',\n",
       " 'tx_procedur_ty_ki',\n",
       " 'init_stat',\n",
       " 'txkid',\n",
       " 'composite',\n",
       " 'ethnicity',\n",
       " 'outcome1',\n",
       " 'outcome1',\n",
       " 'pstatus',\n",
       " 'gstatus_ki',\n",
       " 'death']"
      ]
     },
     "execution_count": 16,
     "metadata": {},
     "output_type": "execute_result"
    }
   ],
   "source": [
    "categorical_stuff"
   ]
  },
  {
   "cell_type": "code",
   "execution_count": null,
   "metadata": {},
   "outputs": [],
   "source": [
    "# df.to_csv(r'C:\\Users\\Agi\\Desktop\\DropBox\\Dropbox\\Classes\\ITSS 4354\\Final Project\\dfclean3152018.csv' , encoding='utf-8')"
   ]
  },
  {
   "cell_type": "code",
   "execution_count": null,
   "metadata": {},
   "outputs": [],
   "source": [
    "def one_hot(df, categorical_columns):\n",
    "    for each in categorical_columns:\n",
    "        dummies = pd.get_dummies(df[each], prefix=each, drop_first=False)\n",
    "        df = pd.concat([df, dummies], axis=1)\n",
    "    return df\n",
    "\n",
    "one_hot(df, categorical_columns)"
   ]
  }
 ],
 "metadata": {
  "kernelspec": {
   "display_name": "Python 3",
   "language": "python",
   "name": "python3"
  },
  "language_info": {
   "codemirror_mode": {
    "name": "ipython",
    "version": 3
   },
   "file_extension": ".py",
   "mimetype": "text/x-python",
   "name": "python",
   "nbconvert_exporter": "python",
   "pygments_lexer": "ipython3",
   "version": "3.6.3"
  }
 },
 "nbformat": 4,
 "nbformat_minor": 2
}
